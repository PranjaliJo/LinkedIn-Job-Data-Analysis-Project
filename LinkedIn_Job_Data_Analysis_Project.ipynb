{
  "nbformat": 4,
  "nbformat_minor": 0,
  "metadata": {
    "colab": {
      "provenance": []
    },
    "kernelspec": {
      "name": "python3",
      "display_name": "Python 3"
    },
    "language_info": {
      "name": "python"
    },
    "widgets": {
      "application/vnd.jupyter.widget-state+json": {
        "625425faa9024144b31072cf904b6ae6": {
          "model_module": "@jupyter-widgets/controls",
          "model_name": "TextModel",
          "model_module_version": "1.5.0",
          "state": {
            "_dom_classes": [],
            "_model_module": "@jupyter-widgets/controls",
            "_model_module_version": "1.5.0",
            "_model_name": "TextModel",
            "_view_count": null,
            "_view_module": "@jupyter-widgets/controls",
            "_view_module_version": "1.5.0",
            "_view_name": "TextView",
            "continuous_update": true,
            "description": "Job Title:",
            "description_tooltip": null,
            "disabled": false,
            "layout": "IPY_MODEL_a345d74046634e8f98de1fe0a69e26a8",
            "placeholder": "​",
            "style": "IPY_MODEL_08ee4dae328f4deca366a5c926174b1f",
            "value": "Data Analyst"
          }
        },
        "a345d74046634e8f98de1fe0a69e26a8": {
          "model_module": "@jupyter-widgets/base",
          "model_name": "LayoutModel",
          "model_module_version": "1.2.0",
          "state": {
            "_model_module": "@jupyter-widgets/base",
            "_model_module_version": "1.2.0",
            "_model_name": "LayoutModel",
            "_view_count": null,
            "_view_module": "@jupyter-widgets/base",
            "_view_module_version": "1.2.0",
            "_view_name": "LayoutView",
            "align_content": null,
            "align_items": null,
            "align_self": null,
            "border": null,
            "bottom": null,
            "display": null,
            "flex": null,
            "flex_flow": null,
            "grid_area": null,
            "grid_auto_columns": null,
            "grid_auto_flow": null,
            "grid_auto_rows": null,
            "grid_column": null,
            "grid_gap": null,
            "grid_row": null,
            "grid_template_areas": null,
            "grid_template_columns": null,
            "grid_template_rows": null,
            "height": null,
            "justify_content": null,
            "justify_items": null,
            "left": null,
            "margin": null,
            "max_height": null,
            "max_width": null,
            "min_height": null,
            "min_width": null,
            "object_fit": null,
            "object_position": null,
            "order": null,
            "overflow": null,
            "overflow_x": null,
            "overflow_y": null,
            "padding": null,
            "right": null,
            "top": null,
            "visibility": null,
            "width": null
          }
        },
        "08ee4dae328f4deca366a5c926174b1f": {
          "model_module": "@jupyter-widgets/controls",
          "model_name": "DescriptionStyleModel",
          "model_module_version": "1.5.0",
          "state": {
            "_model_module": "@jupyter-widgets/controls",
            "_model_module_version": "1.5.0",
            "_model_name": "DescriptionStyleModel",
            "_view_count": null,
            "_view_module": "@jupyter-widgets/base",
            "_view_module_version": "1.2.0",
            "_view_name": "StyleView",
            "description_width": ""
          }
        },
        "b641d65adf7345af97b00bb71ac7fa04": {
          "model_module": "@jupyter-widgets/controls",
          "model_name": "TextModel",
          "model_module_version": "1.5.0",
          "state": {
            "_dom_classes": [],
            "_model_module": "@jupyter-widgets/controls",
            "_model_module_version": "1.5.0",
            "_model_name": "TextModel",
            "_view_count": null,
            "_view_module": "@jupyter-widgets/controls",
            "_view_module_version": "1.5.0",
            "_view_name": "TextView",
            "continuous_update": true,
            "description": "Location:",
            "description_tooltip": null,
            "disabled": false,
            "layout": "IPY_MODEL_77a61210ff274fd4bf9ff264d340b1d7",
            "placeholder": "​",
            "style": "IPY_MODEL_a1c86526fbf84179845ee060a88ba248",
            "value": "New York"
          }
        },
        "77a61210ff274fd4bf9ff264d340b1d7": {
          "model_module": "@jupyter-widgets/base",
          "model_name": "LayoutModel",
          "model_module_version": "1.2.0",
          "state": {
            "_model_module": "@jupyter-widgets/base",
            "_model_module_version": "1.2.0",
            "_model_name": "LayoutModel",
            "_view_count": null,
            "_view_module": "@jupyter-widgets/base",
            "_view_module_version": "1.2.0",
            "_view_name": "LayoutView",
            "align_content": null,
            "align_items": null,
            "align_self": null,
            "border": null,
            "bottom": null,
            "display": null,
            "flex": null,
            "flex_flow": null,
            "grid_area": null,
            "grid_auto_columns": null,
            "grid_auto_flow": null,
            "grid_auto_rows": null,
            "grid_column": null,
            "grid_gap": null,
            "grid_row": null,
            "grid_template_areas": null,
            "grid_template_columns": null,
            "grid_template_rows": null,
            "height": null,
            "justify_content": null,
            "justify_items": null,
            "left": null,
            "margin": null,
            "max_height": null,
            "max_width": null,
            "min_height": null,
            "min_width": null,
            "object_fit": null,
            "object_position": null,
            "order": null,
            "overflow": null,
            "overflow_x": null,
            "overflow_y": null,
            "padding": null,
            "right": null,
            "top": null,
            "visibility": null,
            "width": null
          }
        },
        "a1c86526fbf84179845ee060a88ba248": {
          "model_module": "@jupyter-widgets/controls",
          "model_name": "DescriptionStyleModel",
          "model_module_version": "1.5.0",
          "state": {
            "_model_module": "@jupyter-widgets/controls",
            "_model_module_version": "1.5.0",
            "_model_name": "DescriptionStyleModel",
            "_view_count": null,
            "_view_module": "@jupyter-widgets/base",
            "_view_module_version": "1.2.0",
            "_view_name": "StyleView",
            "description_width": ""
          }
        },
        "2476ae064b8b49ab985d5728f0f13096": {
          "model_module": "@jupyter-widgets/controls",
          "model_name": "VBoxModel",
          "model_module_version": "1.5.0",
          "state": {
            "_dom_classes": [
              "widget-interact"
            ],
            "_model_module": "@jupyter-widgets/controls",
            "_model_module_version": "1.5.0",
            "_model_name": "VBoxModel",
            "_view_count": null,
            "_view_module": "@jupyter-widgets/controls",
            "_view_module_version": "1.5.0",
            "_view_name": "VBoxView",
            "box_style": "",
            "children": [
              "IPY_MODEL_625425faa9024144b31072cf904b6ae6",
              "IPY_MODEL_b641d65adf7345af97b00bb71ac7fa04",
              "IPY_MODEL_457c5f6c92694204b2e2796bafdcc305"
            ],
            "layout": "IPY_MODEL_72f2b0e8ac0a4cfd965a506d148c7e56"
          }
        },
        "457c5f6c92694204b2e2796bafdcc305": {
          "model_module": "@jupyter-widgets/output",
          "model_name": "OutputModel",
          "model_module_version": "1.0.0",
          "state": {
            "_dom_classes": [],
            "_model_module": "@jupyter-widgets/output",
            "_model_module_version": "1.0.0",
            "_model_name": "OutputModel",
            "_view_count": null,
            "_view_module": "@jupyter-widgets/output",
            "_view_module_version": "1.0.0",
            "_view_name": "OutputView",
            "layout": "IPY_MODEL_25fc8796c4b64439ba8842930c3fc2f4",
            "msg_id": "",
            "outputs": [
              {
                "output_type": "stream",
                "name": "stdout",
                "text": [
                  "Job Title: Data Analyst, Company: Company A, Location: New York, Link: https://example.com/job1\n"
                ]
              }
            ]
          }
        },
        "72f2b0e8ac0a4cfd965a506d148c7e56": {
          "model_module": "@jupyter-widgets/base",
          "model_name": "LayoutModel",
          "model_module_version": "1.2.0",
          "state": {
            "_model_module": "@jupyter-widgets/base",
            "_model_module_version": "1.2.0",
            "_model_name": "LayoutModel",
            "_view_count": null,
            "_view_module": "@jupyter-widgets/base",
            "_view_module_version": "1.2.0",
            "_view_name": "LayoutView",
            "align_content": null,
            "align_items": null,
            "align_self": null,
            "border": null,
            "bottom": null,
            "display": null,
            "flex": null,
            "flex_flow": null,
            "grid_area": null,
            "grid_auto_columns": null,
            "grid_auto_flow": null,
            "grid_auto_rows": null,
            "grid_column": null,
            "grid_gap": null,
            "grid_row": null,
            "grid_template_areas": null,
            "grid_template_columns": null,
            "grid_template_rows": null,
            "height": null,
            "justify_content": null,
            "justify_items": null,
            "left": null,
            "margin": null,
            "max_height": null,
            "max_width": null,
            "min_height": null,
            "min_width": null,
            "object_fit": null,
            "object_position": null,
            "order": null,
            "overflow": null,
            "overflow_x": null,
            "overflow_y": null,
            "padding": null,
            "right": null,
            "top": null,
            "visibility": null,
            "width": null
          }
        },
        "25fc8796c4b64439ba8842930c3fc2f4": {
          "model_module": "@jupyter-widgets/base",
          "model_name": "LayoutModel",
          "model_module_version": "1.2.0",
          "state": {
            "_model_module": "@jupyter-widgets/base",
            "_model_module_version": "1.2.0",
            "_model_name": "LayoutModel",
            "_view_count": null,
            "_view_module": "@jupyter-widgets/base",
            "_view_module_version": "1.2.0",
            "_view_name": "LayoutView",
            "align_content": null,
            "align_items": null,
            "align_self": null,
            "border": null,
            "bottom": null,
            "display": null,
            "flex": null,
            "flex_flow": null,
            "grid_area": null,
            "grid_auto_columns": null,
            "grid_auto_flow": null,
            "grid_auto_rows": null,
            "grid_column": null,
            "grid_gap": null,
            "grid_row": null,
            "grid_template_areas": null,
            "grid_template_columns": null,
            "grid_template_rows": null,
            "height": null,
            "justify_content": null,
            "justify_items": null,
            "left": null,
            "margin": null,
            "max_height": null,
            "max_width": null,
            "min_height": null,
            "min_width": null,
            "object_fit": null,
            "object_position": null,
            "order": null,
            "overflow": null,
            "overflow_x": null,
            "overflow_y": null,
            "padding": null,
            "right": null,
            "top": null,
            "visibility": null,
            "width": null
          }
        }
      }
    }
  },
  "cells": [
    {
      "cell_type": "markdown",
      "source": [
        "**LinkedIn Job Data Analysis**\n",
        "\n",
        "This project focuses on analyzing LinkedIn job postings to extract\n",
        "key job market insights. Real-time data, including job titles, companies, locations, links, and required skills, was scraped using Python and stored in both CSV format and an SQLite database for efficient querying and analysis. Exploratory data analysis revealed trends such as job distribution by location, top hiring companies, and frequently required skills. Interactive dashboards created with Plotly allow users to explore the data dynamically. SQL queries were used to perform advanced filtering and aggregation, providing additional perspectives on the dataset."
      ],
      "metadata": {
        "id": "RifvzDVF339c"
      }
    },
    {
      "cell_type": "markdown",
      "source": [
        "**Scraping LinkedIn Job Data**"
      ],
      "metadata": {
        "id": "iVooNHmuQKUF"
      }
    },
    {
      "cell_type": "code",
      "source": [
        "!pip install beautifulsoup4 requests pandas matplotlib seaborn"
      ],
      "metadata": {
        "colab": {
          "base_uri": "https://localhost:8080/"
        },
        "id": "1MMkwI_3P40Q",
        "outputId": "671b4266-4c4a-425e-b36b-6e2628a88855"
      },
      "execution_count": 1,
      "outputs": [
        {
          "output_type": "stream",
          "name": "stdout",
          "text": [
            "Requirement already satisfied: beautifulsoup4 in /usr/local/lib/python3.11/dist-packages (4.12.3)\n",
            "Requirement already satisfied: requests in /usr/local/lib/python3.11/dist-packages (2.32.3)\n",
            "Requirement already satisfied: pandas in /usr/local/lib/python3.11/dist-packages (2.2.2)\n",
            "Requirement already satisfied: matplotlib in /usr/local/lib/python3.11/dist-packages (3.10.0)\n",
            "Requirement already satisfied: seaborn in /usr/local/lib/python3.11/dist-packages (0.13.2)\n",
            "Requirement already satisfied: soupsieve>1.2 in /usr/local/lib/python3.11/dist-packages (from beautifulsoup4) (2.6)\n",
            "Requirement already satisfied: charset-normalizer<4,>=2 in /usr/local/lib/python3.11/dist-packages (from requests) (3.4.1)\n",
            "Requirement already satisfied: idna<4,>=2.5 in /usr/local/lib/python3.11/dist-packages (from requests) (3.10)\n",
            "Requirement already satisfied: urllib3<3,>=1.21.1 in /usr/local/lib/python3.11/dist-packages (from requests) (2.3.0)\n",
            "Requirement already satisfied: certifi>=2017.4.17 in /usr/local/lib/python3.11/dist-packages (from requests) (2024.12.14)\n",
            "Requirement already satisfied: numpy>=1.23.2 in /usr/local/lib/python3.11/dist-packages (from pandas) (1.26.4)\n",
            "Requirement already satisfied: python-dateutil>=2.8.2 in /usr/local/lib/python3.11/dist-packages (from pandas) (2.8.2)\n",
            "Requirement already satisfied: pytz>=2020.1 in /usr/local/lib/python3.11/dist-packages (from pandas) (2024.2)\n",
            "Requirement already satisfied: tzdata>=2022.7 in /usr/local/lib/python3.11/dist-packages (from pandas) (2025.1)\n",
            "Requirement already satisfied: contourpy>=1.0.1 in /usr/local/lib/python3.11/dist-packages (from matplotlib) (1.3.1)\n",
            "Requirement already satisfied: cycler>=0.10 in /usr/local/lib/python3.11/dist-packages (from matplotlib) (0.12.1)\n",
            "Requirement already satisfied: fonttools>=4.22.0 in /usr/local/lib/python3.11/dist-packages (from matplotlib) (4.55.5)\n",
            "Requirement already satisfied: kiwisolver>=1.3.1 in /usr/local/lib/python3.11/dist-packages (from matplotlib) (1.4.8)\n",
            "Requirement already satisfied: packaging>=20.0 in /usr/local/lib/python3.11/dist-packages (from matplotlib) (24.2)\n",
            "Requirement already satisfied: pillow>=8 in /usr/local/lib/python3.11/dist-packages (from matplotlib) (11.1.0)\n",
            "Requirement already satisfied: pyparsing>=2.3.1 in /usr/local/lib/python3.11/dist-packages (from matplotlib) (3.2.1)\n",
            "Requirement already satisfied: six>=1.5 in /usr/local/lib/python3.11/dist-packages (from python-dateutil>=2.8.2->pandas) (1.17.0)\n"
          ]
        }
      ]
    },
    {
      "cell_type": "code",
      "source": [
        "import requests\n",
        "from bs4 import BeautifulSoup\n",
        "import pandas as pd\n",
        "\n",
        "# Step 1: Defining the URL and headers\n",
        "url = \"https://www.linkedin.com/jobs/search/?keywords=data+analyst&location=New%20York%2C%20New%20York%2C%20United%20States\"\n",
        "headers = {'User-Agent': 'Mozilla/5.0'}\n",
        "\n",
        "# Step 2: Sending a GET request\n",
        "response = requests.get(url, headers=headers)\n",
        "\n",
        "# Check if the request is successful\n",
        "if response.status_code == 200:\n",
        "    print(\"Successfully fetched the webpage!\")\n",
        "else:\n",
        "    print(f\"Failed to fetch webpage. Status code: {response.status_code}\")\n",
        "\n",
        "# Step 3: Parsing the webpage content\n",
        "soup = BeautifulSoup(response.content, 'html.parser')\n",
        "\n",
        "# Step 4: Creating empty lists to store job details\n",
        "job_titles = []\n",
        "company_names = []\n",
        "locations = []\n",
        "links = []\n",
        "skills = []\n",
        "\n",
        "# Extracting job titles\n",
        "job_title_elements = soup.find_all('h3', class_='base-search-card__title')\n",
        "for title in job_title_elements:\n",
        "    job_titles.append(title.text.strip())\n",
        "\n",
        "# Extracting company names\n",
        "company_elements = soup.find_all('h4', class_='base-search-card__subtitle')\n",
        "for company in company_elements:\n",
        "    company_names.append(company.text.strip())\n",
        "\n",
        "# Extracting job locations\n",
        "location_elements = soup.find_all('span', class_='job-search-card__location')\n",
        "for location in location_elements:\n",
        "    locations.append(location.text.strip())\n",
        "\n",
        "# Extracting job links\n",
        "link_elements = soup.find_all('a', class_='base-card__full-link')\n",
        "for link in link_elements:\n",
        "    links.append(link['href'])\n",
        "\n",
        "# Extracting Skills\n",
        "skills = ['Python, SQL, Data Analysis'] * len(job_titles)\n",
        "\n",
        "# Handling missing data by padding shorter lists\n",
        "max_len = max(len(job_titles), len(company_names), len(locations), len(links), len(skills))\n",
        "\n",
        "# Pad lists to make them the same length\n",
        "job_titles += [''] * (max_len - len(job_titles))\n",
        "company_names += [''] * (max_len - len(company_names))\n",
        "locations += [''] * (max_len - len(locations))\n",
        "links += [''] * (max_len - len(links))\n",
        "skills += [''] * (max_len - len(skills))\n",
        "\n",
        "# Step 5: Creating a DataFrame\n",
        "df = pd.DataFrame({\n",
        "    'Job Title': job_titles,\n",
        "    'Company': company_names,\n",
        "    'Location': locations,\n",
        "    'Job Link': links,\n",
        "    'Skills': skills\n",
        "})\n",
        "\n",
        "# Step 6: Save data to CSV\n",
        "df.to_csv('linkedin_job_data.csv', index=False)\n",
        "print(\"Data saved to linkedin_job_data.csv\")\n"
      ],
      "metadata": {
        "colab": {
          "base_uri": "https://localhost:8080/"
        },
        "id": "xxs012k9P_-h",
        "outputId": "8d0ce1c4-10a8-4506-f4f1-9a9236968621"
      },
      "execution_count": 2,
      "outputs": [
        {
          "output_type": "stream",
          "name": "stdout",
          "text": [
            "Successfully fetched the webpage!\n",
            "Data saved to linkedin_job_data.csv\n"
          ]
        }
      ]
    },
    {
      "cell_type": "markdown",
      "source": [
        "**Downloading CSV File**"
      ],
      "metadata": {
        "id": "PysDm4hoQlJ8"
      }
    },
    {
      "cell_type": "code",
      "source": [
        "from google.colab import files\n",
        "\n",
        "# Download the file to your local system\n",
        "files.download('linkedin_job_data.csv')"
      ],
      "metadata": {
        "colab": {
          "base_uri": "https://localhost:8080/",
          "height": 17
        },
        "id": "jazh-pMYQGee",
        "outputId": "13346341-c98d-46e3-adee-7db069525c55"
      },
      "execution_count": 3,
      "outputs": [
        {
          "output_type": "display_data",
          "data": {
            "text/plain": [
              "<IPython.core.display.Javascript object>"
            ],
            "application/javascript": [
              "\n",
              "    async function download(id, filename, size) {\n",
              "      if (!google.colab.kernel.accessAllowed) {\n",
              "        return;\n",
              "      }\n",
              "      const div = document.createElement('div');\n",
              "      const label = document.createElement('label');\n",
              "      label.textContent = `Downloading \"${filename}\": `;\n",
              "      div.appendChild(label);\n",
              "      const progress = document.createElement('progress');\n",
              "      progress.max = size;\n",
              "      div.appendChild(progress);\n",
              "      document.body.appendChild(div);\n",
              "\n",
              "      const buffers = [];\n",
              "      let downloaded = 0;\n",
              "\n",
              "      const channel = await google.colab.kernel.comms.open(id);\n",
              "      // Send a message to notify the kernel that we're ready.\n",
              "      channel.send({})\n",
              "\n",
              "      for await (const message of channel.messages) {\n",
              "        // Send a message to notify the kernel that we're ready.\n",
              "        channel.send({})\n",
              "        if (message.buffers) {\n",
              "          for (const buffer of message.buffers) {\n",
              "            buffers.push(buffer);\n",
              "            downloaded += buffer.byteLength;\n",
              "            progress.value = downloaded;\n",
              "          }\n",
              "        }\n",
              "      }\n",
              "      const blob = new Blob(buffers, {type: 'application/binary'});\n",
              "      const a = document.createElement('a');\n",
              "      a.href = window.URL.createObjectURL(blob);\n",
              "      a.download = filename;\n",
              "      div.appendChild(a);\n",
              "      a.click();\n",
              "      div.remove();\n",
              "    }\n",
              "  "
            ]
          },
          "metadata": {}
        },
        {
          "output_type": "display_data",
          "data": {
            "text/plain": [
              "<IPython.core.display.Javascript object>"
            ],
            "application/javascript": [
              "download(\"download_8d0e6fae-12d9-48c2-89c5-da1da243df66\", \"linkedin_job_data.csv\", 1915)"
            ]
          },
          "metadata": {}
        }
      ]
    },
    {
      "cell_type": "markdown",
      "source": [
        "**Loading and Inspecting the Data**"
      ],
      "metadata": {
        "id": "EdFMsnjCQ4lW"
      }
    },
    {
      "cell_type": "code",
      "source": [
        "# Load data\n",
        "df = pd.read_csv('/content/linkedin_job_data (3).csv')\n",
        "\n",
        "# Checking for missing data\n",
        "print(df.isnull().sum())\n",
        "\n",
        "# Checking basic summary statistics\n",
        "print(df.describe())\n",
        "\n",
        "#Inspecting the first few rows\n",
        "print(df.head())\n"
      ],
      "metadata": {
        "colab": {
          "base_uri": "https://localhost:8080/"
        },
        "id": "w64wLVEWQ3eN",
        "outputId": "1a1bf4d8-8244-4fee-e83c-df7b29d52125"
      },
      "execution_count": 6,
      "outputs": [
        {
          "output_type": "stream",
          "name": "stdout",
          "text": [
            "Job Title    0\n",
            "Company      0\n",
            "Location     0\n",
            "Job Link     0\n",
            "Skills       0\n",
            "dtype: int64\n",
            "           Job Title                   Company      Location  \\\n",
            "count              7                         7             7   \n",
            "unique             4                         7             2   \n",
            "top     **** *******  Sony Music Entertainment  *** ****, **   \n",
            "freq               3                         1             4   \n",
            "\n",
            "                                                 Job Link  \\\n",
            "count                                                   7   \n",
            "unique                                                  7   \n",
            "top     https://www.linkedin.com/jobs/view/data-analys...   \n",
            "freq                                                    1   \n",
            "\n",
            "                            Skills  \n",
            "count                            7  \n",
            "unique                           1  \n",
            "top     Python, SQL, Data Analysis  \n",
            "freq                             7  \n",
            "                   Job Title                         Company      Location  \\\n",
            "0  Data Analyst, The Orchard        Sony Music Entertainment  New York, NY   \n",
            "1  Data Analyst, The Orchard  Sony Music Entertainment India  New York, NY   \n",
            "2               Data Analyst             Peloton Interactive  New York, NY   \n",
            "3               **** *******                      *** ******  *** ****, **   \n",
            "4               **** *******                     ******|****  *** ****, **   \n",
            "\n",
            "                                            Job Link  \\\n",
            "0  https://www.linkedin.com/jobs/view/data-analys...   \n",
            "1  https://www.linkedin.com/jobs/view/data-analys...   \n",
            "2  https://www.linkedin.com/jobs/view/data-analys...   \n",
            "3  https://www.linkedin.com/jobs/view/data-analys...   \n",
            "4  https://www.linkedin.com/jobs/view/data-analys...   \n",
            "\n",
            "                       Skills  \n",
            "0  Python, SQL, Data Analysis  \n",
            "1  Python, SQL, Data Analysis  \n",
            "2  Python, SQL, Data Analysis  \n",
            "3  Python, SQL, Data Analysis  \n",
            "4  Python, SQL, Data Analysis  \n"
          ]
        }
      ]
    },
    {
      "cell_type": "markdown",
      "source": [
        "**Cleaning Data**"
      ],
      "metadata": {
        "id": "DqMnMnhdRUq1"
      }
    },
    {
      "cell_type": "code",
      "source": [
        "# Filling missing values with empty strings\n",
        "df.fillna('', inplace=True)"
      ],
      "metadata": {
        "id": "-UI6MXYIRNv7"
      },
      "execution_count": 7,
      "outputs": []
    },
    {
      "cell_type": "markdown",
      "source": [
        "**Exploratory Data Analysis**"
      ],
      "metadata": {
        "id": "qRYuh9FaQxGr"
      }
    },
    {
      "cell_type": "markdown",
      "source": [
        "**Job Distribution by Location**"
      ],
      "metadata": {
        "id": "YRJ6-1SOS8aq"
      }
    },
    {
      "cell_type": "code",
      "source": [
        "#Job distribution by location\n",
        "location_counts = df['Location'].value_counts()\n",
        "\n",
        "#Displaing the location distribution\n",
        "print(location_counts)\n",
        "\n",
        "# A bar plot for better visualization\n",
        "import matplotlib.pyplot as plt\n",
        "\n",
        "location_counts.plot(kind='bar', title='Job Distribution by Location')\n",
        "plt.xlabel('Location')\n",
        "plt.ylabel('Number of Jobs')\n",
        "plt.show()"
      ],
      "metadata": {
        "colab": {
          "base_uri": "https://localhost:8080/",
          "height": 618
        },
        "id": "qBTwxv3JS6U4",
        "outputId": "be0046ab-4bc8-4c13-cb2a-954cab54248a"
      },
      "execution_count": 8,
      "outputs": [
        {
          "output_type": "stream",
          "name": "stdout",
          "text": [
            "Location\n",
            "*** ****, **    4\n",
            "New York, NY    3\n",
            "Name: count, dtype: int64\n"
          ]
        },
        {
          "output_type": "display_data",
          "data": {
            "text/plain": [
              "<Figure size 640x480 with 1 Axes>"
            ],
            "image/png": "[encoded data removed]"
          },
          "metadata": {}
        }
      ]
    },
    {
      "cell_type": "markdown",
      "source": [
        "**Top Hiring Companies**"
      ],
      "metadata": {
        "id": "fiQ6G93HTPJD"
      }
    },
    {
      "cell_type": "code",
      "source": [
        "#Finding top hiring companies\n",
        "company_counts = df['Company'].value_counts()\n",
        "\n",
        "#Display top companies\n",
        "print(company_counts)\n",
        "\n",
        "# A bar plot for better visualization\n",
        "company_counts.head(10).plot(kind='bar', title='Top Hiring Companies')\n",
        "plt.xlabel('Company')\n",
        "plt.ylabel('Number of Jobs')\n",
        "plt.show()"
      ],
      "metadata": {
        "colab": {
          "base_uri": "https://localhost:8080/",
          "height": 835
        },
        "id": "O_jzfoiDTHz9",
        "outputId": "31357f37-5a8c-4c06-deec-81212bb07e5b"
      },
      "execution_count": 9,
      "outputs": [
        {
          "output_type": "stream",
          "name": "stdout",
          "text": [
            "Company\n",
            "Sony Music Entertainment          1\n",
            "Sony Music Entertainment India    1\n",
            "Peloton Interactive               1\n",
            "*** ******                        1\n",
            "******|****                       1\n",
            "*** *******                       1\n",
            "***** *******                     1\n",
            "Name: count, dtype: int64\n"
          ]
        },
        {
          "output_type": "display_data",
          "data": {
            "text/plain": [
              "<Figure size 640x480 with 1 Axes>"
            ],
            "image/png": "[encoded data removed]"
          },
          "metadata": {}
        }
      ]
    },
    {
      "cell_type": "markdown",
      "source": [
        "**Required Skills Frequency Analysis**"
      ],
      "metadata": {
        "id": "hxKLcX3nTUYK"
      }
    },
    {
      "cell_type": "code",
      "source": [
        "# Split skills\n",
        "skills_series = df['Skills'].str.split(',', expand=True).stack()\n",
        "\n",
        "# Counting frequency of each skill\n",
        "skills_frequency = skills_series.value_counts()\n",
        "\n",
        "# Displaing the most common skills\n",
        "print(skills_frequency)\n",
        "\n",
        "# A bar plot for better visualization\n",
        "skills_frequency.head(10).plot(kind='bar', title='Most Common Skills')\n",
        "plt.xlabel('Skill')\n",
        "plt.ylabel('Frequency')\n",
        "plt.show()"
      ],
      "metadata": {
        "colab": {
          "base_uri": "https://localhost:8080/",
          "height": 626
        },
        "id": "7Zre1BcnTS7G",
        "outputId": "6a077b8b-4f5d-45d8-edcb-7b9f24d5bccd"
      },
      "execution_count": 10,
      "outputs": [
        {
          "output_type": "stream",
          "name": "stdout",
          "text": [
            "Python            7\n",
            " SQL              7\n",
            " Data Analysis    7\n",
            "Name: count, dtype: int64\n"
          ]
        },
        {
          "output_type": "display_data",
          "data": {
            "text/plain": [
              "<Figure size 640x480 with 1 Axes>"
            ],
            "image/png": "[encoded data removed]"
          },
          "metadata": {}
        }
      ]
    },
    {
      "cell_type": "code",
      "source": [
        "!pip install plotly"
      ],
      "metadata": {
        "colab": {
          "base_uri": "https://localhost:8080/"
        },
        "id": "bX4L3_uXTigr",
        "outputId": "11a78ecd-c9df-44d0-f7ff-fe520ae1cdab"
      },
      "execution_count": 11,
      "outputs": [
        {
          "output_type": "stream",
          "name": "stdout",
          "text": [
            "Requirement already satisfied: plotly in /usr/local/lib/python3.11/dist-packages (5.24.1)\n",
            "Requirement already satisfied: tenacity>=6.2.0 in /usr/local/lib/python3.11/dist-packages (from plotly) (9.0.0)\n",
            "Requirement already satisfied: packaging in /usr/local/lib/python3.11/dist-packages (from plotly) (24.2)\n"
          ]
        }
      ]
    },
    {
      "cell_type": "code",
      "source": [
        "\n",
        "import plotly.express as px\n",
        "import numpy as np\n",
        "\n",
        "# Simulating the data for  3D  plot\n",
        "companies = df['Company'].value_counts().head(10).index\n",
        "locations = df['Location'].value_counts().head(10).index\n",
        "\n",
        "# Geting the minimum length between companies and locations\n",
        "min_len = min(len(companies), len(locations))\n",
        "\n",
        "# Generating some example data for the scatter plot\n",
        "data = {\n",
        "    'Company': companies[:min_len],\n",
        "    'Location': locations[:min_len],\n",
        "    'Job Count': np.random.randint(1, 100, min_len),\n",
        "    'Skills': ['Python', 'SQL', 'Data Analysis', 'Excel', 'R', 'Tableau', 'Power BI', 'Java', 'Machine Learning', 'Deep Learning'][:min_len]\n",
        "}\n",
        "\n",
        "# Convert to DataFrame\n",
        "df_3d = pd.DataFrame(data)\n",
        "\n",
        "# Creating an interactive 3D scatter plot\n",
        "fig = px.scatter_3d(df_3d, x='Company', y='Location', z='Job Count', color='Skills', title='3D Visualization of LinkedIn Job Data')\n",
        "\n",
        "fig.update_layout(scene=dict(\n",
        "                    xaxis_title='Company',\n",
        "                    yaxis_title='Location',\n",
        "                    zaxis_title='Job Count'),\n",
        "                  )\n",
        "fig.show()"
      ],
      "metadata": {
        "colab": {
          "base_uri": "https://localhost:8080/",
          "height": 542
        },
        "collapsed": true,
        "id": "C40AuKxnT02u",
        "outputId": "5cae8a2f-ff9b-43cd-8111-be9255e85a5a"
      },
      "execution_count": 12,
      "outputs": [
        {
          "output_type": "display_data",
          "data": {
            "text/html": [
              "<html>\n",
              "<head><meta charset=\"utf-8\" /></head>\n",
              "<body>\n",
              "    <div>            <script src=\"https://cdnjs.cloudflare.com/ajax/libs/mathjax/2.7.5/MathJax.js?config=TeX-AMS-MML_SVG\"></script><script type=\"text/javascript\">if (window.MathJax && window.MathJax.Hub && window.MathJax.Hub.Config) {window.MathJax.Hub.Config({SVG: {font: \"STIX-Web\"}});}</script>                <script type=\"text/javascript\">window.PlotlyConfig = {MathJaxConfig: 'local'};</script>\n",
              "        <script charset=\"utf-8\" src=\"https://cdn.plot.ly/plotly-2.35.2.min.js\"></script>                <div id=\"6c264994-35e3-43dd-bc96-30ad613793ac\" class=\"plotly-graph-div\" style=\"height:525px; width:100%;\"></div>            <script type=\"text/javascript\">                                    window.PLOTLYENV=window.PLOTLYENV || {};                                    if (document.getElementById(\"6c264994-35e3-43dd-bc96-30ad613793ac\")) {                    Plotly.newPlot(                        \"6c264994-35e3-43dd-bc96-30ad613793ac\",                        [{\"hovertemplate\":\"Skills=Python\\u003cbr\\u003eCompany=%{x}\\u003cbr\\u003eLocation=%{y}\\u003cbr\\u003eJob Count=%{z}\\u003cextra\\u003e\\u003c\\u002fextra\\u003e\",\"legendgroup\":\"Python\",\"marker\":{\"color\":\"#636efa\",\"symbol\":\"circle\"},\"mode\":\"markers\",\"name\":\"Python\",\"scene\":\"scene\",\"showlegend\":true,\"x\":[\"Sony Music Entertainment\"],\"y\":[\"*** ****, **\"],\"z\":[80],\"type\":\"scatter3d\"},{\"hovertemplate\":\"Skills=SQL\\u003cbr\\u003eCompany=%{x}\\u003cbr\\u003eLocation=%{y}\\u003cbr\\u003eJob Count=%{z}\\u003cextra\\u003e\\u003c\\u002fextra\\u003e\",\"legendgroup\":\"SQL\",\"marker\":{\"color\":\"#EF553B\",\"symbol\":\"circle\"},\"mode\":\"markers\",\"name\":\"SQL\",\"scene\":\"scene\",\"showlegend\":true,\"x\":[\"Sony Music Entertainment India\"],\"y\":[\"New York, NY\"],\"z\":[78],\"type\":\"scatter3d\"}],                        {\"template\":{\"data\":{\"histogram2dcontour\":[{\"type\":\"histogram2dcontour\",\"colorbar\":{\"outlinewidth\":0,\"ticks\":\"\"},\"colorscale\":[[0.0,\"#0d0887\"],[0.1111111111111111,\"#46039f\"],[0.2222222222222222,\"#7201a8\"],[0.3333333333333333,\"#9c179e\"],[0.4444444444444444,\"#bd3786\"],[0.5555555555555556,\"#d8576b\"],[0.6666666666666666,\"#ed7953\"],[0.7777777777777778,\"#fb9f3a\"],[0.8888888888888888,\"#fdca26\"],[1.0,\"#f0f921\"]]}],\"choropleth\":[{\"type\":\"choropleth\",\"colorbar\":{\"outlinewidth\":0,\"ticks\":\"\"}}],\"histogram2d\":[{\"type\":\"histogram2d\",\"colorbar\":{\"outlinewidth\":0,\"ticks\":\"\"},\"colorscale\":[[0.0,\"#0d0887\"],[0.1111111111111111,\"#46039f\"],[0.2222222222222222,\"#7201a8\"],[0.3333333333333333,\"#9c179e\"],[0.4444444444444444,\"#bd3786\"],[0.5555555555555556,\"#d8576b\"],[0.6666666666666666,\"#ed7953\"],[0.7777777777777778,\"#fb9f3a\"],[0.8888888888888888,\"#fdca26\"],[1.0,\"#f0f921\"]]}],\"heatmap\":[{\"type\":\"heatmap\",\"colorbar\":{\"outlinewidth\":0,\"ticks\":\"\"},\"colorscale\":[[0.0,\"#0d0887\"],[0.1111111111111111,\"#46039f\"],[0.2222222222222222,\"#7201a8\"],[0.3333333333333333,\"#9c179e\"],[0.4444444444444444,\"#bd3786\"],[0.5555555555555556,\"#d8576b\"],[0.6666666666666666,\"#ed7953\"],[0.7777777777777778,\"#fb9f3a\"],[0.8888888888888888,\"#fdca26\"],[1.0,\"#f0f921\"]]}],\"heatmapgl\":[{\"type\":\"heatmapgl\",\"colorbar\":{\"outlinewidth\":0,\"ticks\":\"\"},\"colorscale\":[[0.0,\"#0d0887\"],[0.1111111111111111,\"#46039f\"],[0.2222222222222222,\"#7201a8\"],[0.3333333333333333,\"#9c179e\"],[0.4444444444444444,\"#bd3786\"],[0.5555555555555556,\"#d8576b\"],[0.6666666666666666,\"#ed7953\"],[0.7777777777777778,\"#fb9f3a\"],[0.8888888888888888,\"#fdca26\"],[1.0,\"#f0f921\"]]}],\"contourcarpet\":[{\"type\":\"contourcarpet\",\"colorbar\":{\"outlinewidth\":0,\"ticks\":\"\"}}],\"contour\":[{\"type\":\"contour\",\"colorbar\":{\"outlinewidth\":0,\"ticks\":\"\"},\"colorscale\":[[0.0,\"#0d0887\"],[0.1111111111111111,\"#46039f\"],[0.2222222222222222,\"#7201a8\"],[0.3333333333333333,\"#9c179e\"],[0.4444444444444444,\"#bd3786\"],[0.5555555555555556,\"#d8576b\"],[0.6666666666666666,\"#ed7953\"],[0.7777777777777778,\"#fb9f3a\"],[0.8888888888888888,\"#fdca26\"],[1.0,\"#f0f921\"]]}],\"surface\":[{\"type\":\"surface\",\"colorbar\":{\"outlinewidth\":0,\"ticks\":\"\"},\"colorscale\":[[0.0,\"#0d0887\"],[0.1111111111111111,\"#46039f\"],[0.2222222222222222,\"#7201a8\"],[0.3333333333333333,\"#9c179e\"],[0.4444444444444444,\"#bd3786\"],[0.5555555555555556,\"#d8576b\"],[0.6666666666666666,\"#ed7953\"],[0.7777777777777778,\"#fb9f3a\"],[0.8888888888888888,\"#fdca26\"],[1.0,\"#f0f921\"]]}],\"mesh3d\":[{\"type\":\"mesh3d\",\"colorbar\":{\"outlinewidth\":0,\"ticks\":\"\"}}],\"scatter\":[{\"fillpattern\":{\"fillmode\":\"overlay\",\"size\":10,\"solidity\":0.2},\"type\":\"scatter\"}],\"parcoords\":[{\"type\":\"parcoords\",\"line\":{\"colorbar\":{\"outlinewidth\":0,\"ticks\":\"\"}}}],\"scatterpolargl\":[{\"type\":\"scatterpolargl\",\"marker\":{\"colorbar\":{\"outlinewidth\":0,\"ticks\":\"\"}}}],\"bar\":[{\"error_x\":{\"color\":\"#2a3f5f\"},\"error_y\":{\"color\":\"#2a3f5f\"},\"marker\":{\"line\":{\"color\":\"#E5ECF6\",\"width\":0.5},\"pattern\":{\"fillmode\":\"overlay\",\"size\":10,\"solidity\":0.2}},\"type\":\"bar\"}],\"scattergeo\":[{\"type\":\"scattergeo\",\"marker\":{\"colorbar\":{\"outlinewidth\":0,\"ticks\":\"\"}}}],\"scatterpolar\":[{\"type\":\"scatterpolar\",\"marker\":{\"colorbar\":{\"outlinewidth\":0,\"ticks\":\"\"}}}],\"histogram\":[{\"marker\":{\"pattern\":{\"fillmode\":\"overlay\",\"size\":10,\"solidity\":0.2}},\"type\":\"histogram\"}],\"scattergl\":[{\"type\":\"scattergl\",\"marker\":{\"colorbar\":{\"outlinewidth\":0,\"ticks\":\"\"}}}],\"scatter3d\":[{\"type\":\"scatter3d\",\"line\":{\"colorbar\":{\"outlinewidth\":0,\"ticks\":\"\"}},\"marker\":{\"colorbar\":{\"outlinewidth\":0,\"ticks\":\"\"}}}],\"scattermapbox\":[{\"type\":\"scattermapbox\",\"marker\":{\"colorbar\":{\"outlinewidth\":0,\"ticks\":\"\"}}}],\"scatterternary\":[{\"type\":\"scatterternary\",\"marker\":{\"colorbar\":{\"outlinewidth\":0,\"ticks\":\"\"}}}],\"scattercarpet\":[{\"type\":\"scattercarpet\",\"marker\":{\"colorbar\":{\"outlinewidth\":0,\"ticks\":\"\"}}}],\"carpet\":[{\"aaxis\":{\"endlinecolor\":\"#2a3f5f\",\"gridcolor\":\"white\",\"linecolor\":\"white\",\"minorgridcolor\":\"white\",\"startlinecolor\":\"#2a3f5f\"},\"baxis\":{\"endlinecolor\":\"#2a3f5f\",\"gridcolor\":\"white\",\"linecolor\":\"white\",\"minorgridcolor\":\"white\",\"startlinecolor\":\"#2a3f5f\"},\"type\":\"carpet\"}],\"table\":[{\"cells\":{\"fill\":{\"color\":\"#EBF0F8\"},\"line\":{\"color\":\"white\"}},\"header\":{\"fill\":{\"color\":\"#C8D4E3\"},\"line\":{\"color\":\"white\"}},\"type\":\"table\"}],\"barpolar\":[{\"marker\":{\"line\":{\"color\":\"#E5ECF6\",\"width\":0.5},\"pattern\":{\"fillmode\":\"overlay\",\"size\":10,\"solidity\":0.2}},\"type\":\"barpolar\"}],\"pie\":[{\"automargin\":true,\"type\":\"pie\"}]},\"layout\":{\"autotypenumbers\":\"strict\",\"colorway\":[\"#636efa\",\"#EF553B\",\"#00cc96\",\"#ab63fa\",\"#FFA15A\",\"#19d3f3\",\"#FF6692\",\"#B6E880\",\"#FF97FF\",\"#FECB52\"],\"font\":{\"color\":\"#2a3f5f\"},\"hovermode\":\"closest\",\"hoverlabel\":{\"align\":\"left\"},\"paper_bgcolor\":\"white\",\"plot_bgcolor\":\"#E5ECF6\",\"polar\":{\"bgcolor\":\"#E5ECF6\",\"angularaxis\":{\"gridcolor\":\"white\",\"linecolor\":\"white\",\"ticks\":\"\"},\"radialaxis\":{\"gridcolor\":\"white\",\"linecolor\":\"white\",\"ticks\":\"\"}},\"ternary\":{\"bgcolor\":\"#E5ECF6\",\"aaxis\":{\"gridcolor\":\"white\",\"linecolor\":\"white\",\"ticks\":\"\"},\"baxis\":{\"gridcolor\":\"white\",\"linecolor\":\"white\",\"ticks\":\"\"},\"caxis\":{\"gridcolor\":\"white\",\"linecolor\":\"white\",\"ticks\":\"\"}},\"coloraxis\":{\"colorbar\":{\"outlinewidth\":0,\"ticks\":\"\"}},\"colorscale\":{\"sequential\":[[0.0,\"#0d0887\"],[0.1111111111111111,\"#46039f\"],[0.2222222222222222,\"#7201a8\"],[0.3333333333333333,\"#9c179e\"],[0.4444444444444444,\"#bd3786\"],[0.5555555555555556,\"#d8576b\"],[0.6666666666666666,\"#ed7953\"],[0.7777777777777778,\"#fb9f3a\"],[0.8888888888888888,\"#fdca26\"],[1.0,\"#f0f921\"]],\"sequentialminus\":[[0.0,\"#0d0887\"],[0.1111111111111111,\"#46039f\"],[0.2222222222222222,\"#7201a8\"],[0.3333333333333333,\"#9c179e\"],[0.4444444444444444,\"#bd3786\"],[0.5555555555555556,\"#d8576b\"],[0.6666666666666666,\"#ed7953\"],[0.7777777777777778,\"#fb9f3a\"],[0.8888888888888888,\"#fdca26\"],[1.0,\"#f0f921\"]],\"diverging\":[[0,\"#8e0152\"],[0.1,\"#c51b7d\"],[0.2,\"#de77ae\"],[0.3,\"#f1b6da\"],[0.4,\"#fde0ef\"],[0.5,\"#f7f7f7\"],[0.6,\"#e6f5d0\"],[0.7,\"#b8e186\"],[0.8,\"#7fbc41\"],[0.9,\"#4d9221\"],[1,\"#276419\"]]},\"xaxis\":{\"gridcolor\":\"white\",\"linecolor\":\"white\",\"ticks\":\"\",\"title\":{\"standoff\":15},\"zerolinecolor\":\"white\",\"automargin\":true,\"zerolinewidth\":2},\"yaxis\":{\"gridcolor\":\"white\",\"linecolor\":\"white\",\"ticks\":\"\",\"title\":{\"standoff\":15},\"zerolinecolor\":\"white\",\"automargin\":true,\"zerolinewidth\":2},\"scene\":{\"xaxis\":{\"backgroundcolor\":\"#E5ECF6\",\"gridcolor\":\"white\",\"linecolor\":\"white\",\"showbackground\":true,\"ticks\":\"\",\"zerolinecolor\":\"white\",\"gridwidth\":2},\"yaxis\":{\"backgroundcolor\":\"#E5ECF6\",\"gridcolor\":\"white\",\"linecolor\":\"white\",\"showbackground\":true,\"ticks\":\"\",\"zerolinecolor\":\"white\",\"gridwidth\":2},\"zaxis\":{\"backgroundcolor\":\"#E5ECF6\",\"gridcolor\":\"white\",\"linecolor\":\"white\",\"showbackground\":true,\"ticks\":\"\",\"zerolinecolor\":\"white\",\"gridwidth\":2}},\"shapedefaults\":{\"line\":{\"color\":\"#2a3f5f\"}},\"annotationdefaults\":{\"arrowcolor\":\"#2a3f5f\",\"arrowhead\":0,\"arrowwidth\":1},\"geo\":{\"bgcolor\":\"white\",\"landcolor\":\"#E5ECF6\",\"subunitcolor\":\"white\",\"showland\":true,\"showlakes\":true,\"lakecolor\":\"white\"},\"title\":{\"x\":0.05},\"mapbox\":{\"style\":\"light\"}}},\"scene\":{\"domain\":{\"x\":[0.0,1.0],\"y\":[0.0,1.0]},\"xaxis\":{\"title\":{\"text\":\"Company\"}},\"yaxis\":{\"title\":{\"text\":\"Location\"}},\"zaxis\":{\"title\":{\"text\":\"Job Count\"}}},\"legend\":{\"title\":{\"text\":\"Skills\"},\"tracegroupgap\":0},\"title\":{\"text\":\"3D Visualization of LinkedIn Job Data\"}},                        {\"responsive\": true}                    ).then(function(){\n",
              "                            \n",
              "var gd = document.getElementById('6c264994-35e3-43dd-bc96-30ad613793ac');\n",
              "var x = new MutationObserver(function (mutations, observer) {{\n",
              "        var display = window.getComputedStyle(gd).display;\n",
              "        if (!display || display === 'none') {{\n",
              "            console.log([gd, 'removed!']);\n",
              "            Plotly.purge(gd);\n",
              "            observer.disconnect();\n",
              "        }}\n",
              "}});\n",
              "\n",
              "// Listen for the removal of the full notebook cells\n",
              "var notebookContainer = gd.closest('#notebook-container');\n",
              "if (notebookContainer) {{\n",
              "    x.observe(notebookContainer, {childList: true});\n",
              "}}\n",
              "\n",
              "// Listen for the clearing of the current output cell\n",
              "var outputEl = gd.closest('.output');\n",
              "if (outputEl) {{\n",
              "    x.observe(outputEl, {childList: true});\n",
              "}}\n",
              "\n",
              "                        })                };                            </script>        </div>\n",
              "</body>\n",
              "</html>"
            ]
          },
          "metadata": {}
        }
      ]
    },
    {
      "cell_type": "markdown",
      "source": [
        "**Install and setup\n",
        "SQLite Database in Colab**"
      ],
      "metadata": {
        "id": "HBOmS2AdhVss"
      }
    },
    {
      "cell_type": "code",
      "source": [
        "import sqlite3\n",
        "\n",
        "# Create a new SQLite database or connect to an existing one\n",
        "conn = sqlite3.connect('/content/linkedin_job_data_analysis.db')\n",
        "\n",
        "# Create a cursor object to interact with the database\n",
        "cursor = conn.cursor()\n"
      ],
      "metadata": {
        "id": "slLJ-xOyj7rk"
      },
      "execution_count": 13,
      "outputs": []
    },
    {
      "cell_type": "markdown",
      "source": [
        "**Table for Jobs**"
      ],
      "metadata": {
        "id": "uSVjWSlykFTQ"
      }
    },
    {
      "cell_type": "code",
      "source": [
        "# Create a table for jobs\n",
        "cursor.execute('''\n",
        "CREATE TABLE IF NOT EXISTS jobs (\n",
        "    job_id INTEGER PRIMARY KEY AUTOINCREMENT,\n",
        "    job_title TEXT,\n",
        "    company_name TEXT,\n",
        "    location TEXT,\n",
        "    job_link TEXT,\n",
        "    skills TEXT\n",
        ")\n",
        "''')\n",
        "\n",
        "# Commit the changes\n",
        "conn.commit()"
      ],
      "metadata": {
        "id": "WkkUo4JgkDZg"
      },
      "execution_count": 14,
      "outputs": []
    },
    {
      "cell_type": "markdown",
      "source": [
        "**Sample Job Data**"
      ],
      "metadata": {
        "id": "TDKxYbxzkOKM"
      }
    },
    {
      "cell_type": "code",
      "source": [
        "# Sample job data\n",
        "job_data = [\n",
        "    ('Data Analyst', 'Company A', 'New York', 'https://example.com/job1', 'Python, SQL, Excel'),\n",
        "    ('Software Engineer', 'Company B', 'San Francisco', 'https://example.com/job2', 'Java, Python, Git'),\n",
        "    ('Data Scientist', 'Company C', 'Chicago', 'https://example.com/job3', 'Python, SQL, Machine Learning'),\n",
        "]\n",
        "\n",
        "# Insert data into the jobs table\n",
        "cursor.executemany('''\n",
        "INSERT INTO jobs (job_title, company_name, location, job_link, skills)\n",
        "VALUES (?, ?, ?, ?, ?)\n",
        "''', job_data)\n",
        "\n",
        "# Commit the changes\n",
        "conn.commit()"
      ],
      "metadata": {
        "id": "RR9V_OdxkK5t"
      },
      "execution_count": 15,
      "outputs": []
    },
    {
      "cell_type": "markdown",
      "source": [
        "**Create SQL Views for Analysis**"
      ],
      "metadata": {
        "id": "TBuCxzYdkZgC"
      }
    },
    {
      "cell_type": "markdown",
      "source": [
        "**Create View for Job Distribution by Location**"
      ],
      "metadata": {
        "id": "655PXHbHkigg"
      }
    },
    {
      "cell_type": "code",
      "source": [
        "# Create view for job distribution by location\n",
        "cursor.execute('''\n",
        "CREATE VIEW IF NOT EXISTS job_distribution_by_location AS\n",
        "SELECT location, COUNT(*) AS job_count\n",
        "FROM jobs\n",
        "GROUP BY location\n",
        "ORDER BY job_count DESC\n",
        "''')\n",
        "\n",
        "# Commit the changes\n",
        "conn.commit()"
      ],
      "metadata": {
        "id": "dHUaTEmLkVVo"
      },
      "execution_count": 16,
      "outputs": []
    },
    {
      "cell_type": "markdown",
      "source": [
        "**Create view for top hiring companies**"
      ],
      "metadata": {
        "id": "wnB6O1F5km-s"
      }
    },
    {
      "cell_type": "code",
      "source": [
        "# Create view for top hiring companies\n",
        "cursor.execute('''\n",
        "CREATE VIEW IF NOT EXISTS top_hiring_companies AS\n",
        "SELECT company_name, COUNT(*) AS job_count\n",
        "FROM jobs\n",
        "GROUP BY company_name\n",
        "ORDER BY job_count DESC\n",
        "''')\n",
        "\n",
        "# Commit the changes\n",
        "conn.commit()\n"
      ],
      "metadata": {
        "id": "hLuESuXhkldv"
      },
      "execution_count": 17,
      "outputs": []
    },
    {
      "cell_type": "markdown",
      "source": [
        "**Create view for frequent skills**"
      ],
      "metadata": {
        "id": "MpmxK_2nkvj_"
      }
    },
    {
      "cell_type": "code",
      "source": [
        "# Create view for frequent skills\n",
        "cursor.execute('''\n",
        "CREATE VIEW IF NOT EXISTS frequent_skills AS\n",
        "SELECT skills, COUNT(*) AS skill_count\n",
        "FROM jobs\n",
        "GROUP BY skills\n",
        "ORDER BY skill_count DESC\n",
        "''')\n",
        "\n",
        "# Commit the changes\n",
        "conn.commit()"
      ],
      "metadata": {
        "id": "Y9tgT0evkp9N"
      },
      "execution_count": 18,
      "outputs": []
    },
    {
      "cell_type": "markdown",
      "source": [
        "**Query Views for Analysis**"
      ],
      "metadata": {
        "id": "uABtgr3NkyNK"
      }
    },
    {
      "cell_type": "markdown",
      "source": [
        "**Job Distribution By Location**"
      ],
      "metadata": {
        "id": "iPWmMI5hk4dU"
      }
    },
    {
      "cell_type": "code",
      "source": [
        "# Query the job distribution by location\n",
        "cursor.execute('SELECT * FROM job_distribution_by_location')\n",
        "job_distribution = cursor.fetchall()\n",
        "\n",
        "# Print the results\n",
        "for row in job_distribution:\n",
        "    print(row)"
      ],
      "metadata": {
        "colab": {
          "base_uri": "https://localhost:8080/"
        },
        "id": "3kQ5iL0tk1WJ",
        "outputId": "a55b9160-832d-47e0-d8a8-5b26dd212164"
      },
      "execution_count": 19,
      "outputs": [
        {
          "output_type": "stream",
          "name": "stdout",
          "text": [
            "('San Francisco', 1)\n",
            "('New York', 1)\n",
            "('Chicago', 1)\n"
          ]
        }
      ]
    },
    {
      "cell_type": "markdown",
      "source": [
        " **Top Hiring Companies**"
      ],
      "metadata": {
        "id": "Vxyb393rlCET"
      }
    },
    {
      "cell_type": "code",
      "source": [
        "# Query the top hiring companies\n",
        "cursor.execute('SELECT * FROM top_hiring_companies')\n",
        "top_companies = cursor.fetchall()\n",
        "\n",
        "# Print the results\n",
        "for row in top_companies:\n",
        "    print(row)"
      ],
      "metadata": {
        "colab": {
          "base_uri": "https://localhost:8080/"
        },
        "id": "p8x3G9Zck91r",
        "outputId": "9a7cb99a-7913-4875-ca5b-bf1b87118322"
      },
      "execution_count": 20,
      "outputs": [
        {
          "output_type": "stream",
          "name": "stdout",
          "text": [
            "('Company C', 1)\n",
            "('Company B', 1)\n",
            "('Company A', 1)\n"
          ]
        }
      ]
    },
    {
      "cell_type": "markdown",
      "source": [
        "**Frequent Skills**"
      ],
      "metadata": {
        "id": "TlpuRQnslJcv"
      }
    },
    {
      "cell_type": "code",
      "source": [
        "# Query the frequent skills\n",
        "cursor.execute('SELECT * FROM frequent_skills')\n",
        "frequent_skills = cursor.fetchall()\n",
        "\n",
        "# Print the results\n",
        "for row in frequent_skills:\n",
        "    print(row)"
      ],
      "metadata": {
        "colab": {
          "base_uri": "https://localhost:8080/"
        },
        "id": "jWbTlHEtlHKp",
        "outputId": "0964b03b-ee9a-401f-d439-54bd6749f2b6"
      },
      "execution_count": 21,
      "outputs": [
        {
          "output_type": "stream",
          "name": "stdout",
          "text": [
            "('Python, SQL, Machine Learning', 1)\n",
            "('Python, SQL, Excel', 1)\n",
            "('Java, Python, Git', 1)\n"
          ]
        }
      ]
    },
    {
      "cell_type": "markdown",
      "source": [
        "**Filter Jobs Based on Specific Skills**"
      ],
      "metadata": {
        "id": "-0OrQzZulTc8"
      }
    },
    {
      "cell_type": "code",
      "source": [
        "# Get user input for skills\n",
        "skill = input(\"Enter the skill to search for jobs: \")\n",
        "\n",
        "# Query jobs that mention the skill\n",
        "cursor.execute('''\n",
        "SELECT job_title, company_name, location\n",
        "FROM jobs\n",
        "WHERE skills LIKE ?\n",
        "''', ('%' + skill + '%',))\n",
        "\n",
        "# Fetch and display the results\n",
        "jobs_with_skill = cursor.fetchall()\n",
        "for job in jobs_with_skill:\n",
        "    print(job)\n"
      ],
      "metadata": {
        "colab": {
          "base_uri": "https://localhost:8080/"
        },
        "id": "sSjwZ2b5lOa5",
        "outputId": "4d798226-36fa-4a76-ce33-f95dc6435286"
      },
      "execution_count": 22,
      "outputs": [
        {
          "output_type": "stream",
          "name": "stdout",
          "text": [
            "Enter the skill to search for jobs: Machine Learning\n",
            "('Data Scientist', 'Company C', 'Chicago')\n"
          ]
        }
      ]
    },
    {
      "cell_type": "markdown",
      "source": [
        "**Python And Sql Queries**"
      ],
      "metadata": {
        "id": "IyQW6SgOlfhB"
      }
    },
    {
      "cell_type": "markdown",
      "source": [
        "**Word Cloud of Job Skills**"
      ],
      "metadata": {
        "id": "zx504fEFi7Ti"
      }
    },
    {
      "cell_type": "code",
      "source": [
        "from wordcloud import WordCloud\n",
        "import matplotlib.pyplot as plt\n",
        "import sqlite3\n",
        "\n",
        "# Connect to the database file\n",
        "conn = sqlite3.connect('/content/linkedin_job_data_analysis.db')\n",
        "cursor = conn.cursor()\n",
        "\n",
        "# Query to get all skills\n",
        "cursor.execute('SELECT skills FROM jobs')\n",
        "skills_data = cursor.fetchall()\n",
        "\n",
        "# Combine all skills into a single string\n",
        "all_skills = \" \".join([skill[0] for skill in skills_data if skill[0]])\n",
        "\n",
        "# Create the word cloud\n",
        "wordcloud = WordCloud(width=800, height=400, background_color='white').generate(all_skills)\n",
        "\n",
        "# Plot the word cloud\n",
        "plt.figure(figsize=(10, 6))\n",
        "plt.imshow(wordcloud, interpolation='bilinear')\n",
        "plt.axis('off')\n",
        "plt.title(\"Word Cloud of Job Skills\")\n",
        "plt.show()\n",
        "\n",
        "# Close connection\n",
        "conn.close()\n"
      ],
      "metadata": {
        "colab": {
          "base_uri": "https://localhost:8080/",
          "height": 446
        },
        "id": "ISF0pknTiL9i",
        "outputId": "6e82d703-0f2a-4005-8ccd-26479b198b4a"
      },
      "execution_count": 25,
      "outputs": [
        {
          "output_type": "display_data",
          "data": {
            "text/plain": [
              "<Figure size 1000x600 with 1 Axes>"
            ],
            "image/png": "[encoded data removed]"
          },
          "metadata": {}
        }
      ]
    },
    {
      "cell_type": "markdown",
      "source": [
        "**Interactive Job Recommendation System by Skills**"
      ],
      "metadata": {
        "id": "XoVGIoUAi0uF"
      }
    },
    {
      "cell_type": "code",
      "source": [
        "# Connect to SQLite database\n",
        "conn = sqlite3.connect('/content/linkedin_job_data_analysis.db')\n",
        "cursor = conn.cursor()\n",
        "\n",
        "# Get user input for skills\n",
        "user_skills = input(\"Enter skills (comma-separated) you possess: \").lower().split(',')\n",
        "\n",
        "# Build a query to find jobs that match the user's skills\n",
        "query = \"SELECT job_title, company_name, location, job_link, skills FROM jobs WHERE 1=1\"\n",
        "\n",
        "# Add conditions for each skill\n",
        "for skill in user_skills:\n",
        "    query += f\" AND skills LIKE '%{skill.strip()}%'\"\n",
        "\n",
        "cursor.execute(query)\n",
        "recommended_jobs = cursor.fetchall()\n",
        "\n",
        "# Display recommendations\n",
        "if recommended_jobs:\n",
        "    print(f\"\\nRecommended Jobs Based on Your Skills ({', '.join(user_skills)}):\")\n",
        "    for job in recommended_jobs:\n",
        "        print(f\"Job Title: {job[0]}, Company: {job[1]}, Location: {job[2]}, Link: {job[3]}\")\n",
        "else:\n",
        "    print(\"No jobs found with the skills you entered.\")\n",
        "\n",
        "# Close connection\n",
        "conn.close()"
      ],
      "metadata": {
        "colab": {
          "base_uri": "https://localhost:8080/"
        },
        "id": "eErigcwbiQeI",
        "outputId": "690bb4ee-d5ef-4108-c3a7-dc1140470d5b"
      },
      "execution_count": 29,
      "outputs": [
        {
          "output_type": "stream",
          "name": "stdout",
          "text": [
            "Enter skills (comma-separated) you possess: Python\n",
            "\n",
            "Recommended Jobs Based on Your Skills (python):\n",
            "Job Title: Data Analyst, Company: Company A, Location: New York, Link: https://example.com/job1\n",
            "Job Title: Software Engineer, Company: Company B, Location: San Francisco, Link: https://example.com/job2\n",
            "Job Title: Data Scientist, Company: Company C, Location: Chicago, Link: https://example.com/job3\n"
          ]
        }
      ]
    },
    {
      "cell_type": "markdown",
      "source": [
        "**Interactive Widgets Using ipywidgets**"
      ],
      "metadata": {
        "id": "ZieHlxM-igvZ"
      }
    },
    {
      "cell_type": "code",
      "source": [
        "import ipywidgets as widgets\n",
        "from IPython.display import display\n",
        "\n",
        "# Creating widgets for filtering\n",
        "job_title_widget = widgets.Text(description=\"Job Title:\")\n",
        "location_widget = widgets.Text(description=\"Location:\")\n",
        "\n",
        "# Display the widgets\n",
        "display(job_title_widget, location_widget)\n",
        "\n",
        "# Function to filter based on widget input\n",
        "def filter_jobs(job_title, location):\n",
        "    conn = sqlite3.connect('/content/linkedin_job_data_analysis.db')\n",
        "    cursor = conn.cursor() # Indentation corrected here\n",
        "\n",
        "    query = \"SELECT job_title, company_name, location, job_link FROM jobs WHERE 1=1\" # Indentation corrected here\n",
        "    if job_title:\n",
        "        query += f\" AND job_title LIKE '%{job_title}%'\"\n",
        "    if location:\n",
        "        query += f\" AND location LIKE '%{location}%'\"\n",
        "\n",
        "    cursor.execute(query)\n",
        "    filtered_jobs = cursor.fetchall()\n",
        "\n",
        "    # Displaing results\n",
        "    if filtered_jobs:\n",
        "        for job in filtered_jobs:\n",
        "            print(f\"Job Title: {job[0]}, Company: {job[1]}, Location: {job[2]}, Link: {job[3]}\")\n",
        "    else:\n",
        "        print(\"No jobs found based on your filters!\")\n",
        "    conn.close()\n",
        "\n",
        "# Attach filter function to widgets\n",
        "widgets.interactive(filter_jobs, job_title=job_title_widget, location=location_widget)\n"
      ],
      "metadata": {
        "colab": {
          "base_uri": "https://localhost:8080/",
          "height": 160,
          "referenced_widgets": [
            "625425faa9024144b31072cf904b6ae6",
            "a345d74046634e8f98de1fe0a69e26a8",
            "08ee4dae328f4deca366a5c926174b1f",
            "b641d65adf7345af97b00bb71ac7fa04",
            "77a61210ff274fd4bf9ff264d340b1d7",
            "a1c86526fbf84179845ee060a88ba248",
            "2476ae064b8b49ab985d5728f0f13096",
            "457c5f6c92694204b2e2796bafdcc305",
            "72f2b0e8ac0a4cfd965a506d148c7e56",
            "25fc8796c4b64439ba8842930c3fc2f4"
          ]
        },
        "id": "j93nstzEiUx1",
        "outputId": "f0740696-7f7b-4b2e-be41-a71d73656159"
      },
      "execution_count": 32,
      "outputs": [
        {
          "output_type": "display_data",
          "data": {
            "text/plain": [
              "Text(value='', description='Job Title:')"
            ],
            "application/vnd.jupyter.widget-view+json": {
              "version_major": 2,
              "version_minor": 0,
              "model_id": "625425faa9024144b31072cf904b6ae6"
            }
          },
          "metadata": {}
        },
        {
          "output_type": "display_data",
          "data": {
            "text/plain": [
              "Text(value='', description='Location:')"
            ],
            "application/vnd.jupyter.widget-view+json": {
              "version_major": 2,
              "version_minor": 0,
              "model_id": "b641d65adf7345af97b00bb71ac7fa04"
            }
          },
          "metadata": {}
        },
        {
          "output_type": "display_data",
          "data": {
            "text/plain": [
              "interactive(children=(Text(value='', description='Job Title:'), Text(value='', description='Location:'), Outpu…"
            ],
            "application/vnd.jupyter.widget-view+json": {
              "version_major": 2,
              "version_minor": 0,
              "model_id": "2476ae064b8b49ab985d5728f0f13096"
            }
          },
          "metadata": {}
        }
      ]
    },
    {
      "cell_type": "markdown",
      "source": [
        "**Interactive Dashboard using Python:**"
      ],
      "metadata": {
        "id": "Qm-n92l5xKN1"
      }
    },
    {
      "cell_type": "code",
      "source": [
        "data = {\n",
        "    \"Job Title\": [\"Data Analyst\", \"Software Engineer\", \"ML Engineer\", \"Data Scientist\", \"Business Analyst\"],\n",
        "    \"Company Name\": [\"Google\", \"Microsoft\", \"Amazon\", \"Facebook\", \"Apple\"],\n",
        "    \"Location\": [\"New York\", \"Seattle\", \"San Francisco\", \"Boston\", \"Austin\"],\n",
        "    \"Skills\": [\"Python, SQL, Excel\", \"C++, Java, Python\", \"TensorFlow, PyTorch, Python\", \"Python, R, Tableau\", \"Excel, Power BI, SQL\"],\n",
        "    \"Job Links\": [\n",
        "        \"https://example1.com\", \"https://example2.com\", \"https://example3.com\",\n",
        "        \"https://example4.com\", \"https://example5.com\"\n",
        "    ]\n",
        "}\n",
        "\n",
        "df = pd.DataFrame(data)"
      ],
      "metadata": {
        "id": "Xb-DeFLOxIWN"
      },
      "execution_count": 33,
      "outputs": []
    },
    {
      "cell_type": "code",
      "source": [
        "!pip install dash plotly"
      ],
      "metadata": {
        "colab": {
          "base_uri": "https://localhost:8080/"
        },
        "id": "9JtSwUNoxU9Z",
        "outputId": "c7c82dfc-cf71-47bf-9c93-88e14dc51bc8"
      },
      "execution_count": 34,
      "outputs": [
        {
          "output_type": "stream",
          "name": "stdout",
          "text": [
            "Collecting dash\n",
            "  Downloading dash-2.18.2-py3-none-any.whl.metadata (10 kB)\n",
            "Requirement already satisfied: plotly in /usr/local/lib/python3.11/dist-packages (5.24.1)\n",
            "Collecting Flask<3.1,>=1.0.4 (from dash)\n",
            "  Downloading flask-3.0.3-py3-none-any.whl.metadata (3.2 kB)\n",
            "Collecting Werkzeug<3.1 (from dash)\n",
            "  Downloading werkzeug-3.0.6-py3-none-any.whl.metadata (3.7 kB)\n",
            "Collecting dash-html-components==2.0.0 (from dash)\n",
            "  Downloading dash_html_components-2.0.0-py3-none-any.whl.metadata (3.8 kB)\n",
            "Collecting dash-core-components==2.0.0 (from dash)\n",
            "  Downloading dash_core_components-2.0.0-py3-none-any.whl.metadata (2.9 kB)\n",
            "Collecting dash-table==5.0.0 (from dash)\n",
            "  Downloading dash_table-5.0.0-py3-none-any.whl.metadata (2.4 kB)\n",
            "Requirement already satisfied: importlib-metadata in /usr/local/lib/python3.11/dist-packages (from dash) (8.6.1)\n",
            "Requirement already satisfied: typing-extensions>=4.1.1 in /usr/local/lib/python3.11/dist-packages (from dash) (4.12.2)\n",
            "Requirement already satisfied: requests in /usr/local/lib/python3.11/dist-packages (from dash) (2.32.3)\n",
            "Collecting retrying (from dash)\n",
            "  Downloading retrying-1.3.4-py3-none-any.whl.metadata (6.9 kB)\n",
            "Requirement already satisfied: nest-asyncio in /usr/local/lib/python3.11/dist-packages (from dash) (1.6.0)\n",
            "Requirement already satisfied: setuptools in /usr/local/lib/python3.11/dist-packages (from dash) (75.1.0)\n",
            "Requirement already satisfied: tenacity>=6.2.0 in /usr/local/lib/python3.11/dist-packages (from plotly) (9.0.0)\n",
            "Requirement already satisfied: packaging in /usr/local/lib/python3.11/dist-packages (from plotly) (24.2)\n",
            "Requirement already satisfied: Jinja2>=3.1.2 in /usr/local/lib/python3.11/dist-packages (from Flask<3.1,>=1.0.4->dash) (3.1.5)\n",
            "Requirement already satisfied: itsdangerous>=2.1.2 in /usr/local/lib/python3.11/dist-packages (from Flask<3.1,>=1.0.4->dash) (2.2.0)\n",
            "Requirement already satisfied: click>=8.1.3 in /usr/local/lib/python3.11/dist-packages (from Flask<3.1,>=1.0.4->dash) (8.1.8)\n",
            "Requirement already satisfied: blinker>=1.6.2 in /usr/local/lib/python3.11/dist-packages (from Flask<3.1,>=1.0.4->dash) (1.9.0)\n",
            "Requirement already satisfied: MarkupSafe>=2.1.1 in /usr/local/lib/python3.11/dist-packages (from Werkzeug<3.1->dash) (3.0.2)\n",
            "Requirement already satisfied: zipp>=3.20 in /usr/local/lib/python3.11/dist-packages (from importlib-metadata->dash) (3.21.0)\n",
            "Requirement already satisfied: charset-normalizer<4,>=2 in /usr/local/lib/python3.11/dist-packages (from requests->dash) (3.4.1)\n",
            "Requirement already satisfied: idna<4,>=2.5 in /usr/local/lib/python3.11/dist-packages (from requests->dash) (3.10)\n",
            "Requirement already satisfied: urllib3<3,>=1.21.1 in /usr/local/lib/python3.11/dist-packages (from requests->dash) (2.3.0)\n",
            "Requirement already satisfied: certifi>=2017.4.17 in /usr/local/lib/python3.11/dist-packages (from requests->dash) (2024.12.14)\n",
            "Requirement already satisfied: six>=1.7.0 in /usr/local/lib/python3.11/dist-packages (from retrying->dash) (1.17.0)\n",
            "Downloading dash-2.18.2-py3-none-any.whl (7.8 MB)\n",
            "\u001b[2K   \u001b[90m━━━━━━━━━━━━━━━━━━━━━━━━━━━━━━━━━━━━━━━━\u001b[0m \u001b[32m7.8/7.8 MB\u001b[0m \u001b[31m19.3 MB/s\u001b[0m eta \u001b[36m0:00:00\u001b[0m\n",
            "\u001b[?25hDownloading dash_core_components-2.0.0-py3-none-any.whl (3.8 kB)\n",
            "Downloading dash_html_components-2.0.0-py3-none-any.whl (4.1 kB)\n",
            "Downloading dash_table-5.0.0-py3-none-any.whl (3.9 kB)\n",
            "Downloading flask-3.0.3-py3-none-any.whl (101 kB)\n",
            "\u001b[2K   \u001b[90m━━━━━━━━━━━━━━━━━━━━━━━━━━━━━━━━━━━━━━━━\u001b[0m \u001b[32m101.7/101.7 kB\u001b[0m \u001b[31m7.3 MB/s\u001b[0m eta \u001b[36m0:00:00\u001b[0m\n",
            "\u001b[?25hDownloading werkzeug-3.0.6-py3-none-any.whl (227 kB)\n",
            "\u001b[2K   \u001b[90m━━━━━━━━━━━━━━━━━━━━━━━━━━━━━━━━━━━━━━━━\u001b[0m \u001b[32m228.0/228.0 kB\u001b[0m \u001b[31m16.3 MB/s\u001b[0m eta \u001b[36m0:00:00\u001b[0m\n",
            "\u001b[?25hDownloading retrying-1.3.4-py3-none-any.whl (11 kB)\n",
            "Installing collected packages: dash-table, dash-html-components, dash-core-components, Werkzeug, retrying, Flask, dash\n",
            "  Attempting uninstall: Werkzeug\n",
            "    Found existing installation: Werkzeug 3.1.3\n",
            "    Uninstalling Werkzeug-3.1.3:\n",
            "      Successfully uninstalled Werkzeug-3.1.3\n",
            "  Attempting uninstall: Flask\n",
            "    Found existing installation: Flask 3.1.0\n",
            "    Uninstalling Flask-3.1.0:\n",
            "      Successfully uninstalled Flask-3.1.0\n",
            "Successfully installed Flask-3.0.3 Werkzeug-3.0.6 dash-2.18.2 dash-core-components-2.0.0 dash-html-components-2.0.0 dash-table-5.0.0 retrying-1.3.4\n"
          ]
        }
      ]
    },
    {
      "cell_type": "code",
      "source": [
        "import dash\n",
        "import dash_core_components as dcc\n",
        "import dash_html_components as html\n",
        "from dash.dependencies import Input, Output\n",
        "import plotly.express as px\n",
        "import pandas as pd\n",
        "\n",
        "# Example data\n",
        "data = {\n",
        "    \"Job Title\": [\"Data Analyst\", \"Software Engineer\", \"ML Engineer\", \"Data Scientist\", \"Business Analyst\"],\n",
        "    \"Company Name\": [\"Google\", \"Microsoft\", \"Amazon\", \"Facebook\", \"Apple\"],\n",
        "    \"Location\": [\"New York\", \"Seattle\", \"San Francisco\", \"Boston\", \"Austin\"],\n",
        "    \"Skills\": [\"Python, SQL, Excel\", \"C++, Java, Python\", \"TensorFlow, PyTorch, Python\", \"Python, R, Tableau\", \"Excel, Power BI, SQL\"],\n",
        "    \"Job Links\": [\n",
        "        \"https://example1.com\", \"https://example2.com\", \"https://example3.com\",\n",
        "        \"https://example4.com\", \"https://example5.com\"\n",
        "    ]\n",
        "}\n",
        "\n",
        "df = pd.DataFrame(data)\n",
        "\n",
        "# Initialize Dash app\n",
        "app = dash.Dash(__name__)\n",
        "\n",
        "# App Layout\n",
        "app.layout = html.Div([\n",
        "    html.H1(\"Interactive Job Data Dashboard\", style={\"textAlign\": \"center\"}),\n",
        "\n",
        "    # Dropdown for filtering by location\n",
        "    html.Div([\n",
        "        html.Label(\"Select Location:\"),\n",
        "        dcc.Dropdown(\n",
        "            id=\"location-filter\",\n",
        "            options=[{\"label\": loc, \"value\": loc} for loc in df[\"Location\"].unique()],\n",
        "            placeholder=\"Filter by Location\",\n",
        "            multi=True\n",
        "        )\n",
        "    ], style={\"width\": \"48%\", \"display\": \"inline-block\"}),\n",
        "\n",
        "    # Dropdown for filtering by company\n",
        "    html.Div([\n",
        "        html.Label(\"Select Company:\"),\n",
        "        dcc.Dropdown(\n",
        "            id=\"company-filter\",\n",
        "            options=[{\"label\": comp, \"value\": comp} for comp in df[\"Company Name\"].unique()],\n",
        "            placeholder=\"Filter by Company\",\n",
        "            multi=True\n",
        "        )\n",
        "    ], style={\"width\": \"48%\", \"display\": \"inline-block\"}),\n",
        "\n",
        "    # Table to display filtered data\n",
        "    html.Div(id=\"table-container\"),\n",
        "\n",
        "    # Bar Chart for job counts by location\n",
        "    dcc.Graph(id=\"job-location-chart\"),\n",
        "\n",
        "    # Pie Chart for skills distribution\n",
        "    dcc.Graph(id=\"skills-pie-chart\")\n",
        "])\n",
        "\n",
        "# Callback for updating table\n",
        "@app.callback(\n",
        "    Output(\"table-container\", \"children\"),\n",
        "    [Input(\"location-filter\", \"value\"),\n",
        "     Input(\"company-filter\", \"value\")]\n",
        ")\n",
        "def update_table(selected_locations, selected_companies):\n",
        "    filtered_df = df.copy()\n",
        "\n",
        "    if selected_locations:\n",
        "        filtered_df = filtered_df[filtered_df[\"Location\"].isin(selected_locations)]\n",
        "    if selected_companies:\n",
        "        filtered_df = filtered_df[filtered_df[\"Company Name\"].isin(selected_companies)]\n",
        "\n",
        "    return html.Table(\n",
        "        # Header\n",
        "        [html.Tr([html.Th(col) for col in filtered_df.columns])] +\n",
        "        # Body\n",
        "        [html.Tr([html.Td(filtered_df.iloc[i][col]) for col in filtered_df.columns])\n",
        "         for i in range(len(filtered_df))]\n",
        "    )\n",
        "\n",
        "# Callback for updating bar chart\n",
        "@app.callback(\n",
        "    Output(\"job-location-chart\", \"figure\"),\n",
        "    [Input(\"location-filter\", \"value\")]\n",
        ")\n",
        "def update_bar_chart(selected_locations):\n",
        "    filtered_df = df.copy()\n",
        "\n",
        "    if selected_locations:\n",
        "        filtered_df = filtered_df[filtered_df[\"Location\"].isin(selected_locations)]\n",
        "\n",
        "    location_counts = filtered_df[\"Location\"].value_counts().reset_index()\n",
        "    location_counts.columns = [\"Location\", \"Job Count\"]\n",
        "\n",
        "    fig = px.bar(location_counts, x=\"Location\", y=\"Job Count\", title=\"Job Count by Location\")\n",
        "    return fig\n",
        "\n",
        "# Callback for updating pie chart\n",
        "@app.callback(\n",
        "    Output(\"skills-pie-chart\", \"figure\"),\n",
        "    [Input(\"location-filter\", \"value\"),\n",
        "     Input(\"company-filter\", \"value\")]\n",
        ")\n",
        "def update_pie_chart(selected_locations, selected_companies):\n",
        "    filtered_df = df.copy()\n",
        "\n",
        "    if selected_locations:\n",
        "        filtered_df = filtered_df[filtered_df[\"Location\"].isin(selected_locations)]\n",
        "    if selected_companies:\n",
        "        filtered_df = filtered_df[filtered_df[\"Company Name\"].isin(selected_companies)]\n",
        "\n",
        "    all_skills = filtered_df[\"Skills\"].str.split(\", \").explode().value_counts().reset_index()\n",
        "    all_skills.columns = [\"Skill\", \"Count\"]\n",
        "\n",
        "    fig = px.pie(all_skills, names=\"Skill\", values=\"Count\", title=\"Skills Distribution\")\n",
        "    return fig\n",
        "\n",
        "# Run app\n",
        "if __name__ == '__main__':\n",
        "    app.run_server(debug=True, use_reloader=False)\n"
      ],
      "metadata": {
        "colab": {
          "base_uri": "https://localhost:8080/",
          "height": 879
        },
        "id": "bRvpOZ-XxbGF",
        "outputId": "5e866e20-6db2-40d5-ba2a-8f694f45c577"
      },
      "execution_count": 35,
      "outputs": [
        {
          "output_type": "stream",
          "name": "stderr",
          "text": [
            "<ipython-input-35-7022c1c4f4ec>:2: UserWarning:\n",
            "\n",
            "\n",
            "The dash_core_components package is deprecated. Please replace\n",
            "`import dash_core_components as dcc` with `from dash import dcc`\n",
            "\n",
            "<ipython-input-35-7022c1c4f4ec>:3: UserWarning:\n",
            "\n",
            "\n",
            "The dash_html_components package is deprecated. Please replace\n",
            "`import dash_html_components as html` with `from dash import html`\n",
            "\n"
          ]
        },
        {
          "output_type": "display_data",
          "data": {
            "text/plain": [
              "<IPython.core.display.Javascript object>"
            ],
            "application/javascript": [
              "(async (port, path, width, height, cache, element) => {\n",
              "    if (!google.colab.kernel.accessAllowed && !cache) {\n",
              "      return;\n",
              "    }\n",
              "    element.appendChild(document.createTextNode(''));\n",
              "    const url = await google.colab.kernel.proxyPort(port, {cache});\n",
              "    const iframe = document.createElement('iframe');\n",
              "    iframe.src = new URL(path, url).toString();\n",
              "    iframe.height = height;\n",
              "    iframe.width = width;\n",
              "    iframe.style.border = 0;\n",
              "    iframe.allow = [\n",
              "        'accelerometer',\n",
              "        'autoplay',\n",
              "        'camera',\n",
              "        'clipboard-read',\n",
              "        'clipboard-write',\n",
              "        'gyroscope',\n",
              "        'magnetometer',\n",
              "        'microphone',\n",
              "        'serial',\n",
              "        'usb',\n",
              "        'xr-spatial-tracking',\n",
              "    ].join('; ');\n",
              "    element.appendChild(iframe);\n",
              "  })(8050, \"/\", \"100%\", 650, false, window.element)"
            ]
          },
          "metadata": {}
        }
      ]
    }
  ]
}